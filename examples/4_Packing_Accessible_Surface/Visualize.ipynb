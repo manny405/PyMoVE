{
 "cells": [
  {
   "cell_type": "markdown",
   "metadata": {},
   "source": [
    "\n",
    "\n",
    "# This Jupyter Notebook will cover all the different methods capable of approximating molecular volumes using geometric methods available in PyMoVE including examples of visualizing the results from each. \n"
   ]
  },
  {
   "cell_type": "markdown",
   "metadata": {},
   "source": [
    "##### General import statements"
   ]
  },
  {
   "cell_type": "code",
   "execution_count": 4,
   "metadata": {},
   "outputs": [],
   "source": [
    "import os,json\n",
    "\n",
    "import numpy as np\n",
    "\n",
    "from pymove import Structure\n",
    "from pymove.io import read,write\n",
    "from pymove.crystals import preprocess\n",
    "from pymove.molecules.marching_cubes import MarchingCubes\n",
    "from pymove.molecules.molecule_surface import MoleculeSurface\n",
    "\n",
    "from mpl_toolkits.mplot3d import Axes3D  \n",
    "\n",
    "import matplotlib.pyplot as plt\n",
    "\n",
    "from plotly.offline import plot,iplot\n",
    "import plotly.figure_factory as FF\n",
    "import plotly.graph_objs as go\n",
    "\n",
    "\n",
    "def get_limits(coords,offset=0.2):\n",
    "    \"\"\"\n",
    "    Gets the limits for 3D plotting such that the range of each axis is \n",
    "    the same.\n",
    "    \n",
    "    \"\"\"\n",
    "    min_lim = np.min(coords,axis=0)\n",
    "    max_lim = np.max(coords,axis=0)\n",
    "    diff = max_lim - min_lim\n",
    "    \n",
    "    max_diff = np.max(diff)\n",
    "    \n",
    "    min_lim -= offset\n",
    "    max_lim = min_lim + max_diff + 2*offset\n",
    "    \n",
    "    xlim = [min_lim[0],max_lim[0]]\n",
    "    ylim = [min_lim[1],max_lim[1]]\n",
    "    zlim = [min_lim[2],max_lim[2]]\n",
    "    \n",
    "    return xlim,ylim,zlim"
   ]
  },
  {
   "cell_type": "code",
   "execution_count": 5,
   "metadata": {},
   "outputs": [],
   "source": [
    "struct_dict = read(\"../Example_Structures/molecules\")"
   ]
  },
  {
   "cell_type": "markdown",
   "metadata": {},
   "source": [
    "##### Voxel Representation"
   ]
  },
  {
   "cell_type": "code",
   "execution_count": 6,
   "metadata": {
    "scrolled": false
   },
   "outputs": [
    {
     "name": "stdout",
     "output_type": "stream",
     "text": [
      "Help on class MarchingCubes in module pymove.molecules.marching_cubes:\n",
      "\n",
      "class MarchingCubes(pymove.driver.BaseDriver_)\n",
      " |  MarchingCubes(vdw=array([0.2 , 1.2 , 1.4 , 1.82, 1.53, 1.92, 1.7 , 1.55, 1.52, 1.47, 1.54,\n",
      " |         2.27, 1.73, 1.84, 2.1 , 1.8 , 1.8 , 1.75, 1.88, 2.75, 2.31, 1.7 ,\n",
      " |         1.6 , 1.53, 1.39, 1.39, 1.32, 1.26, 1.63, 1.4 , 1.39, 1.87, 2.11,\n",
      " |         1.85, 1.9 , 1.85, 2.02, 3.03, 2.49, 1.9 , 1.75, 1.64, 1.54, 1.47,\n",
      " |         1.46, 1.42, 1.63, 1.72, 1.58, 1.93, 2.17, 2.06, 2.06, 1.98, 2.16,\n",
      " |         3.43, 2.49, 2.07, 2.04, 2.03, 2.01, 1.99, 1.98, 1.98, 1.96, 1.94,\n",
      " |         1.92, 1.92, 1.89, 1.9 , 1.87, 1.87, 1.75, 1.7 , 1.62, 1.51, 1.44,\n",
      " |         1.41, 1.75, 1.66, 1.55, 1.96, 2.02, 2.07, 1.97, 2.02, 2.2 , 3.48,\n",
      " |         2.83, 2.15, 2.06, 2.  , 1.86, 1.9 , 1.87, 1.8 , 1.69, 0.2 , 0.2 ,\n",
      " |         0.2 , 0.2 , 0.2 , 0.2 , 0.2 ]), update=True, cache=0.25, spacing=0.25)\n",
      " |  \n",
      " |  Base pymove Driver class that defines the API for all pymove Drivers. \n",
      " |  Any Driver should inherit this classes API.\n",
      " |  \n",
      " |  Arguments\n",
      " |  ---------\n",
      " |  comm: MPI.COMM\n",
      " |      MPI communicator. In general, this is optional and need not be \n",
      " |      provided to any Driver. Although, some Drivers are MPI aware because\n",
      " |      their workflows are not necessarily naively parallel.\n",
      " |  \n",
      " |  Method resolution order:\n",
      " |      MarchingCubes\n",
      " |      pymove.driver.BaseDriver_\n",
      " |      builtins.object\n",
      " |  \n",
      " |  Methods defined here:\n",
      " |  \n",
      " |  __init__(self, vdw=array([0.2 , 1.2 , 1.4 , 1.82, 1.53, 1.92, 1.7 , 1.55, 1.52, 1.47, 1.54,\n",
      " |         2.27, 1.73, 1.84, 2.1 , 1.8 , 1.8 , 1.75, 1.88, 2.75, 2.31, 1.7 ,\n",
      " |         1.6 , 1.53, 1.39, 1.39, 1.32, 1.26, 1.63, 1.4 , 1.39, 1.87, 2.11,\n",
      " |         1.85, 1.9 , 1.85, 2.02, 3.03, 2.49, 1.9 , 1.75, 1.64, 1.54, 1.47,\n",
      " |         1.46, 1.42, 1.63, 1.72, 1.58, 1.93, 2.17, 2.06, 2.06, 1.98, 2.16,\n",
      " |         3.43, 2.49, 2.07, 2.04, 2.03, 2.01, 1.99, 1.98, 1.98, 1.96, 1.94,\n",
      " |         1.92, 1.92, 1.89, 1.9 , 1.87, 1.87, 1.75, 1.7 , 1.62, 1.51, 1.44,\n",
      " |         1.41, 1.75, 1.66, 1.55, 1.96, 2.02, 2.07, 1.97, 2.02, 2.2 , 3.48,\n",
      " |         2.83, 2.15, 2.06, 2.  , 1.86, 1.9 , 1.87, 1.8 , 1.69, 0.2 , 0.2 ,\n",
      " |         0.2 , 0.2 , 0.2 , 0.2 , 0.2 ]), update=True, cache=0.25, spacing=0.25)\n",
      " |      Initialize self.  See help(type(self)) for accurate signature.\n",
      " |  \n",
      " |  calc_struct(self, struct)\n",
      " |      Perform driver calculation on the input Structure.\n",
      " |  \n",
      " |  center_molecule(self, struct)\n",
      " |      Simple centering operation.\n",
      " |  \n",
      " |  create_offset_dict(self)\n",
      " |  \n",
      " |  create_offset_dict_fast(self)\n",
      " |      Current offset dict version is rigorous but slow.\n",
      " |  \n",
      " |  get_grid(self, struct=None, spacing=0)\n",
      " |      Prepares the grid points in a numerically stable way about the origin. \n",
      " |      If the molecule is not centered at the origin, this will be corrected \n",
      " |      automatically.\n",
      " |  \n",
      " |  marching_cubes(self, volume)\n",
      " |  \n",
      " |  marching_cubes_basic(self, volume)\n",
      " |  \n",
      " |  place_atom_centers(self, struct)\n",
      " |      Places the centers of the atoms onto the grid. This is necessary to \n",
      " |      ensure numerical stability of the algorithm. While this is an approximation,\n",
      " |      using even a course grid, such as 0.05 this will introduce only a minimum \n",
      " |      amount of error. Stores radii and centers.\n",
      " |  \n",
      " |  point_to_grid(self, points)\n",
      " |      Returns the nearest point on the grid with respect to the argument.\n",
      " |      Also, returns the index of this point with respect to the grid coords. \n",
      " |      \n",
      " |      Arguments\n",
      " |      ---------\n",
      " |      points: array\n",
      " |          2D array of points\n",
      " |  \n",
      " |  proj_edge(self, edge, edge_idx, vertices, radius, center)\n",
      " |  \n",
      " |  sphere_to_grid(self, radius, center)\n",
      " |      Returns how a new sphere would be added to the current grid.\n",
      " |  \n",
      " |  struct_to_volume(self, struct=None, spacing=0, center_com=True)\n",
      " |  \n",
      " |  struct_to_volume_colors(self, struct=None, spacing=0, center_com=True)\n",
      " |  \n",
      " |  ----------------------------------------------------------------------\n",
      " |  Methods inherited from pymove.driver.BaseDriver_:\n",
      " |  \n",
      " |  calc(self, struct_obj)\n",
      " |      Wrapper function to enable operation for both a single Structure \n",
      " |      object or an entire Structure Dictionary.\n",
      " |      \n",
      " |      Arguments\n",
      " |      ---------\n",
      " |      struct_obj: pymove.Structure or Dictionary\n",
      " |          Arbitrary structure object. Either dictionyar or structure.\n",
      " |  \n",
      " |  calc_dict(self, struct_dict)\n",
      " |      Calculates entire Structure dictionary.\n",
      " |  \n",
      " |  check(self, output_dir)\n",
      " |      Check if the calculation has been performed correctly.\n",
      " |  \n",
      " |  init_mpi(self)\n",
      " |  \n",
      " |  report(self, output_dir, report=None)\n",
      " |      Contribute or create a report for the Driver calculation.\n",
      " |  \n",
      " |  restart(self, output_dir)\n",
      " |      Identify the progress of the Driver, find the proper way to restart, \n",
      " |      and begin calculation.\n",
      " |  \n",
      " |  write(self, output_dir, file_format='json', overwrite=False)\n",
      " |      Writes the Driver's output to the to the output_dir argument. The only \n",
      " |      specification of the Driver.write function for the pymove API are the \n",
      " |      arguments specified above. The output of a Driver is not necessarily a \n",
      " |      Structure, although this is the most common situation so the write \n",
      " |      arguments are tailored for this purpose. In principle, the output of an \n",
      " |      pymove Driver is not specified by the API and could be anything.  \n",
      " |      \n",
      " |      Usually, a Driver will only need to output a Structure file, with the \n",
      " |      struct_id as the name of the output file, to the output directory. \n",
      " |      This is what's done here.\n",
      " |  \n",
      " |  ----------------------------------------------------------------------\n",
      " |  Data descriptors inherited from pymove.driver.BaseDriver_:\n",
      " |  \n",
      " |  __dict__\n",
      " |      dictionary for instance variables (if defined)\n",
      " |  \n",
      " |  __weakref__\n",
      " |      list of weak references to the object (if defined)\n",
      "\n"
     ]
    }
   ],
   "source": [
    "help(MarchingCubes)"
   ]
  },
  {
   "cell_type": "code",
   "execution_count": 7,
   "metadata": {},
   "outputs": [
    {
     "ename": "ValueError",
     "evalue": "shape mismatch: value array of shape (3,)  could not be broadcast to indexing result of shape (251,)",
     "output_type": "error",
     "traceback": [
      "\u001b[0;31m---------------------------------------------------------------------------\u001b[0m",
      "\u001b[0;31mValueError\u001b[0m                                Traceback (most recent call last)",
      "\u001b[0;32m<ipython-input-7-032ce39dd195>\u001b[0m in \u001b[0;36m<module>\u001b[0;34m\u001b[0m\n\u001b[1;32m      1\u001b[0m \u001b[0mmc\u001b[0m \u001b[0;34m=\u001b[0m \u001b[0mMarchingCubes\u001b[0m\u001b[0;34m(\u001b[0m\u001b[0mspacing\u001b[0m\u001b[0;34m=\u001b[0m\u001b[0;36m0.3\u001b[0m\u001b[0;34m)\u001b[0m\u001b[0;34m\u001b[0m\u001b[0;34m\u001b[0m\u001b[0m\n\u001b[0;32m----> 2\u001b[0;31m \u001b[0mmolecule_voxels\u001b[0m\u001b[0;34m,\u001b[0m\u001b[0mcolors\u001b[0m \u001b[0;34m=\u001b[0m \u001b[0mmc\u001b[0m\u001b[0;34m.\u001b[0m\u001b[0mstruct_to_volume_colors\u001b[0m\u001b[0;34m(\u001b[0m\u001b[0mstruct_dict\u001b[0m\u001b[0;34m[\u001b[0m\u001b[0;34m\"rdx\"\u001b[0m\u001b[0;34m]\u001b[0m\u001b[0;34m)\u001b[0m\u001b[0;34m\u001b[0m\u001b[0;34m\u001b[0m\u001b[0m\n\u001b[0m\u001b[1;32m      3\u001b[0m \u001b[0;34m\u001b[0m\u001b[0m\n\u001b[1;32m      4\u001b[0m \u001b[0;34m\u001b[0m\u001b[0m\n\u001b[1;32m      5\u001b[0m \u001b[0mfig\u001b[0m \u001b[0;34m=\u001b[0m \u001b[0mplt\u001b[0m\u001b[0;34m.\u001b[0m\u001b[0mfigure\u001b[0m\u001b[0;34m(\u001b[0m\u001b[0;34m)\u001b[0m\u001b[0;34m\u001b[0m\u001b[0;34m\u001b[0m\u001b[0m\n",
      "\u001b[0;32m~/Software/anaconda3/envs/pymove/lib/python3.7/site-packages/pymove-0.0-py3.7-macosx-10.7-x86_64.egg/pymove/molecules/marching_cubes.py\u001b[0m in \u001b[0;36mstruct_to_volume_colors\u001b[0;34m(self, struct, spacing, center_com)\u001b[0m\n\u001b[1;32m    408\u001b[0m \u001b[0;34m\u001b[0m\u001b[0m\n\u001b[1;32m    409\u001b[0m             \u001b[0mcurrent_color\u001b[0m \u001b[0;34m=\u001b[0m \u001b[0mele_colors\u001b[0m\u001b[0;34m[\u001b[0m\u001b[0midx\u001b[0m\u001b[0;34m]\u001b[0m\u001b[0;34m\u001b[0m\u001b[0;34m\u001b[0m\u001b[0m\n\u001b[0;32m--> 410\u001b[0;31m             \u001b[0mcolors\u001b[0m\u001b[0;34m[\u001b[0m\u001b[0mgrid_region_idx\u001b[0m\u001b[0;34m[\u001b[0m\u001b[0;34m:\u001b[0m\u001b[0;34m,\u001b[0m\u001b[0;36m0\u001b[0m\u001b[0;34m]\u001b[0m\u001b[0;34m,\u001b[0m \u001b[0mgrid_region_idx\u001b[0m\u001b[0;34m[\u001b[0m\u001b[0;34m:\u001b[0m\u001b[0;34m,\u001b[0m\u001b[0;36m1\u001b[0m\u001b[0;34m]\u001b[0m\u001b[0;34m,\u001b[0m \u001b[0mgrid_region_idx\u001b[0m\u001b[0;34m[\u001b[0m\u001b[0;34m:\u001b[0m\u001b[0;34m,\u001b[0m\u001b[0;36m2\u001b[0m\u001b[0;34m]\u001b[0m\u001b[0;34m]\u001b[0m \u001b[0;34m=\u001b[0m \u001b[0mcurrent_color\u001b[0m\u001b[0;34m\u001b[0m\u001b[0;34m\u001b[0m\u001b[0m\n\u001b[0m\u001b[1;32m    411\u001b[0m \u001b[0;34m\u001b[0m\u001b[0m\n\u001b[1;32m    412\u001b[0m         \u001b[0;32mreturn\u001b[0m \u001b[0mvolume\u001b[0m\u001b[0;34m\u001b[0m\u001b[0;34m\u001b[0m\u001b[0m\n",
      "\u001b[0;31mValueError\u001b[0m: shape mismatch: value array of shape (3,)  could not be broadcast to indexing result of shape (251,)"
     ]
    }
   ],
   "source": [
    "mc = MarchingCubes(spacing=0.3)\n",
    "molecule_voxels,colors = mc.struct_to_volume_colors(struct_dict[\"rdx\"])\n",
    "\n",
    "\n",
    "fig = plt.figure()\n",
    "ax = fig.gca(projection='3d')\n",
    "ax.voxels(molecule_voxels, edgecolor='k')\n",
    "\n",
    "plt.show()"
   ]
  },
  {
   "cell_type": "markdown",
   "metadata": {},
   "source": [
    "##### Marching Cubes "
   ]
  },
  {
   "cell_type": "code",
   "execution_count": null,
   "metadata": {},
   "outputs": [],
   "source": []
  },
  {
   "cell_type": "markdown",
   "metadata": {},
   "source": [
    "##### Atomic Surface Projected Marching Cubes "
   ]
  },
  {
   "cell_type": "code",
   "execution_count": null,
   "metadata": {},
   "outputs": [],
   "source": []
  },
  {
   "cell_type": "markdown",
   "metadata": {},
   "source": [
    "##### Packing Accessible Surface"
   ]
  },
  {
   "cell_type": "code",
   "execution_count": null,
   "metadata": {},
   "outputs": [],
   "source": []
  }
 ],
 "metadata": {
  "kernelspec": {
   "display_name": "pymove",
   "language": "python",
   "name": "pymove"
  },
  "language_info": {
   "codemirror_mode": {
    "name": "ipython",
    "version": 3
   },
   "file_extension": ".py",
   "mimetype": "text/x-python",
   "name": "python",
   "nbconvert_exporter": "python",
   "pygments_lexer": "ipython3",
   "version": "3.7.3"
  }
 },
 "nbformat": 4,
 "nbformat_minor": 2
}
